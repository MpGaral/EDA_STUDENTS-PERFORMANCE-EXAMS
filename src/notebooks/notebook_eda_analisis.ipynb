{
 "cells": [
  {
   "cell_type": "markdown",
   "metadata": {},
   "source": [
    "# ANÁLISIS "
   ]
  },
  {
   "cell_type": "code",
   "execution_count": 2,
   "metadata": {},
   "outputs": [],
   "source": [
    "import numpy as np\n",
    "import matplotlib.pyplot as plt\n",
    "import pandas as pd\n",
    "import seaborn as sns\n",
    "\n",
    "from bootcampviztools import plot_categorical_numerical_relationship, plot_combined_graphs, \\\n",
    "    pinta_distribucion_categoricas, plot_grouped_boxplots, plot_categorical_relationship_fin\n",
    "df = pd.read_csv(\"/Users/maria/BootCamp/REPO_MARIA_GARCIA/EDA_STUDENTS-PERFORMANCE-EXAMS/src/data/DataSet.csv\")"
   ]
  },
  {
   "cell_type": "markdown",
   "metadata": {},
   "source": [
    "## TABLA DE VARIABLES"
   ]
  },
  {
   "cell_type": "code",
   "execution_count": 10,
   "metadata": {},
   "outputs": [
    {
     "data": {
      "text/html": [
       "<div>\n",
       "<style scoped>\n",
       "    .dataframe tbody tr th:only-of-type {\n",
       "        vertical-align: middle;\n",
       "    }\n",
       "\n",
       "    .dataframe tbody tr th {\n",
       "        vertical-align: top;\n",
       "    }\n",
       "\n",
       "    .dataframe thead th {\n",
       "        text-align: right;\n",
       "    }\n",
       "</style>\n",
       "<table border=\"1\" class=\"dataframe\">\n",
       "  <thead>\n",
       "    <tr style=\"text-align: right;\">\n",
       "      <th></th>\n",
       "      <th>Card</th>\n",
       "      <th>%_Card</th>\n",
       "      <th>Tipo</th>\n",
       "    </tr>\n",
       "  </thead>\n",
       "  <tbody>\n",
       "    <tr>\n",
       "      <th>gender</th>\n",
       "      <td>2</td>\n",
       "      <td>0.2</td>\n",
       "      <td>object</td>\n",
       "    </tr>\n",
       "    <tr>\n",
       "      <th>race/ethnicity</th>\n",
       "      <td>5</td>\n",
       "      <td>0.5</td>\n",
       "      <td>object</td>\n",
       "    </tr>\n",
       "    <tr>\n",
       "      <th>parental level of education</th>\n",
       "      <td>6</td>\n",
       "      <td>0.6</td>\n",
       "      <td>object</td>\n",
       "    </tr>\n",
       "    <tr>\n",
       "      <th>lunch</th>\n",
       "      <td>2</td>\n",
       "      <td>0.2</td>\n",
       "      <td>object</td>\n",
       "    </tr>\n",
       "    <tr>\n",
       "      <th>test preparation course</th>\n",
       "      <td>2</td>\n",
       "      <td>0.2</td>\n",
       "      <td>object</td>\n",
       "    </tr>\n",
       "    <tr>\n",
       "      <th>math score</th>\n",
       "      <td>81</td>\n",
       "      <td>8.1</td>\n",
       "      <td>int64</td>\n",
       "    </tr>\n",
       "    <tr>\n",
       "      <th>reading score</th>\n",
       "      <td>72</td>\n",
       "      <td>7.2</td>\n",
       "      <td>int64</td>\n",
       "    </tr>\n",
       "    <tr>\n",
       "      <th>writing score</th>\n",
       "      <td>77</td>\n",
       "      <td>7.7</td>\n",
       "      <td>int64</td>\n",
       "    </tr>\n",
       "  </tbody>\n",
       "</table>\n",
       "</div>"
      ],
      "text/plain": [
       "                            Card %_Card    Tipo\n",
       "gender                         2    0.2  object\n",
       "race/ethnicity                 5    0.5  object\n",
       "parental level of education    6    0.6  object\n",
       "lunch                          2    0.2  object\n",
       "test preparation course        2    0.2  object\n",
       "math score                    81    8.1   int64\n",
       "reading score                 72    7.2   int64\n",
       "writing score                 77    7.7   int64"
      ]
     },
     "execution_count": 10,
     "metadata": {},
     "output_type": "execute_result"
    }
   ],
   "source": [
    "# Para crear la tabla vamos ver la cardinalidad de las variables\n",
    "df_tipificacion = pd.DataFrame([df.nunique(), df.nunique()/len(df) * 100, df.dtypes]).T.rename(columns = {0: \"Card\", 1: \"%_Card\", 2: \"Tipo\"})\n",
    "df_tipificacion"
   ]
  },
  {
   "cell_type": "code",
   "execution_count": 12,
   "metadata": {},
   "outputs": [
    {
     "data": {
      "text/html": [
       "<div>\n",
       "<style scoped>\n",
       "    .dataframe tbody tr th:only-of-type {\n",
       "        vertical-align: middle;\n",
       "    }\n",
       "\n",
       "    .dataframe tbody tr th {\n",
       "        vertical-align: top;\n",
       "    }\n",
       "\n",
       "    .dataframe thead th {\n",
       "        text-align: right;\n",
       "    }\n",
       "</style>\n",
       "<table border=\"1\" class=\"dataframe\">\n",
       "  <thead>\n",
       "    <tr style=\"text-align: right;\">\n",
       "      <th></th>\n",
       "      <th>Card</th>\n",
       "      <th>%_Card</th>\n",
       "      <th>Tipo</th>\n",
       "      <th>Clasificada_como</th>\n",
       "    </tr>\n",
       "  </thead>\n",
       "  <tbody>\n",
       "    <tr>\n",
       "      <th>gender</th>\n",
       "      <td>2</td>\n",
       "      <td>0.2</td>\n",
       "      <td>object</td>\n",
       "      <td>Binaria</td>\n",
       "    </tr>\n",
       "    <tr>\n",
       "      <th>race/ethnicity</th>\n",
       "      <td>5</td>\n",
       "      <td>0.5</td>\n",
       "      <td>object</td>\n",
       "      <td>Categorica</td>\n",
       "    </tr>\n",
       "    <tr>\n",
       "      <th>parental level of education</th>\n",
       "      <td>6</td>\n",
       "      <td>0.6</td>\n",
       "      <td>object</td>\n",
       "      <td>Categorica</td>\n",
       "    </tr>\n",
       "    <tr>\n",
       "      <th>lunch</th>\n",
       "      <td>2</td>\n",
       "      <td>0.2</td>\n",
       "      <td>object</td>\n",
       "      <td>Binaria</td>\n",
       "    </tr>\n",
       "    <tr>\n",
       "      <th>test preparation course</th>\n",
       "      <td>2</td>\n",
       "      <td>0.2</td>\n",
       "      <td>object</td>\n",
       "      <td>Binaria</td>\n",
       "    </tr>\n",
       "    <tr>\n",
       "      <th>math score</th>\n",
       "      <td>81</td>\n",
       "      <td>8.1</td>\n",
       "      <td>int64</td>\n",
       "      <td>Numerica Discreta</td>\n",
       "    </tr>\n",
       "    <tr>\n",
       "      <th>reading score</th>\n",
       "      <td>72</td>\n",
       "      <td>7.2</td>\n",
       "      <td>int64</td>\n",
       "      <td>Numerica Discreta</td>\n",
       "    </tr>\n",
       "    <tr>\n",
       "      <th>writing score</th>\n",
       "      <td>77</td>\n",
       "      <td>7.7</td>\n",
       "      <td>int64</td>\n",
       "      <td>Numerica Discreta</td>\n",
       "    </tr>\n",
       "  </tbody>\n",
       "</table>\n",
       "</div>"
      ],
      "text/plain": [
       "                            Card %_Card    Tipo   Clasificada_como\n",
       "gender                         2    0.2  object            Binaria\n",
       "race/ethnicity                 5    0.5  object         Categorica\n",
       "parental level of education    6    0.6  object         Categorica\n",
       "lunch                          2    0.2  object            Binaria\n",
       "test preparation course        2    0.2  object            Binaria\n",
       "math score                    81    8.1   int64  Numerica Discreta\n",
       "reading score                 72    7.2   int64  Numerica Discreta\n",
       "writing score                 77    7.7   int64  Numerica Discreta"
      ]
     },
     "execution_count": 12,
     "metadata": {},
     "output_type": "execute_result"
    }
   ],
   "source": [
    "# Y ahora a tipificar las variables\n",
    "df_tipificacion[\"Clasificada_como\"] = \"Categorica\" # PArtiendo de que casi todas parecen categóricas\n",
    "df_tipificacion.loc[df_tipificacion.Card == 2, \"Clasificada_como\"] = \"Binaria\"\n",
    "df_tipificacion.loc[df_tipificacion[\"Card\"] > 10, \"Clasificada_como\"] =\"Numerica Discreta\"\n",
    "df_tipificacion.loc[df_tipificacion[\"%_Card\"] > 30, \"Clasificada_como\"] = \"Numerica Continua\"\n",
    "df_tipificacion"
   ]
  },
  {
   "cell_type": "markdown",
   "metadata": {},
   "source": [
    "**Dataset:**  DataSet.csv  \n",
    "**Descripción:**  Datos académicos de un instituto de Estados Unidos y datos demográficos     \n",
    "**Periodo:**  Sin especificar. "
   ]
  },
  {
   "cell_type": "markdown",
   "metadata": {},
   "source": [
    "| Nombre del campo | Descripción                                              | Tipo de variable | Importancia Inicial | Notas                                           |\n",
    "|------------------|----------------------------------------------------------|------------------|---------------------|-------------------------------------------------|\n",
    "| género       | Género del alumno                             | Binaria (categórica)      | 1                   | Son los sujetos expuestos a análisis|\n",
    "| nivel de educación parental           | Nivel de estudios académicos de los padres                  | Categórica       | 1                   | ¿Puede influenciar en el desarrollo académico de los hijos?     |\n",
    "| comedor          | Si disponen de servicio de comedor gratis o no                 | Binaria (categórica)      | 3                   | Es importante el servicio de comedor para el rendimiento académico          |\n",
    "| curso de preparación        | Realización de un curso previo al examen          | Binaria (categórica)        | 1                   | Importancia de la preparación previa    |\n",
    "| resultados en matemáticas            | Resultado numérico del 1 al 100            | Numérica Discreta      | 0                   | Valor numérico con el resultado  y esencial para el análisis     |\n",
    "| resultados en lectura       | Resultado numérico del 1 al 100           | Numérica Discreta       | 0                  | Valor numérico con el resultado y esencial para el análisis       |\n",
    "| resultados en escritura       | Resultado numérico del 1 al 100             | Numérica Discreta         | 0                   | Valor numérico con el resultado y esencial para el análisis  |\n",
    "| media de resultados       | Resultado numérico del 1 al 100             | Numérica Discreta         | 1                   | Media de los resultados para tener un valor global |"
   ]
  },
  {
   "cell_type": "markdown",
   "metadata": {},
   "source": [
    "## ANÁLISIS UNIVARIANTE"
   ]
  },
  {
   "cell_type": "code",
   "execution_count": null,
   "metadata": {},
   "outputs": [],
   "source": []
  },
  {
   "cell_type": "markdown",
   "metadata": {},
   "source": [
    "##### VARIABLES CATEGÓRICAS"
   ]
  },
  {
   "cell_type": "code",
   "execution_count": null,
   "metadata": {},
   "outputs": [],
   "source": []
  },
  {
   "cell_type": "markdown",
   "metadata": {},
   "source": [
    "##### VARIABLES NUMÉRICAS"
   ]
  },
  {
   "cell_type": "code",
   "execution_count": null,
   "metadata": {},
   "outputs": [],
   "source": []
  },
  {
   "cell_type": "markdown",
   "metadata": {},
   "source": [
    "## ANÁLISIS BIVARIANTE"
   ]
  },
  {
   "cell_type": "markdown",
   "metadata": {},
   "source": []
  },
  {
   "cell_type": "markdown",
   "metadata": {},
   "source": []
  },
  {
   "cell_type": "code",
   "execution_count": null,
   "metadata": {},
   "outputs": [],
   "source": []
  },
  {
   "cell_type": "markdown",
   "metadata": {},
   "source": [
    "## ANÁLISIS MULTIVARIANTE"
   ]
  },
  {
   "cell_type": "code",
   "execution_count": null,
   "metadata": {},
   "outputs": [],
   "source": []
  },
  {
   "cell_type": "code",
   "execution_count": 5,
   "metadata": {},
   "outputs": [
    {
     "data": {
      "text/plain": [
       "math score       66.089\n",
       "reading score    69.169\n",
       "writing score    68.054\n",
       "Name: mean, dtype: float64"
      ]
     },
     "execution_count": 5,
     "metadata": {},
     "output_type": "execute_result"
    }
   ],
   "source": [
    "#Calculo la media para las variables numéricas\n",
    "df.describe().loc[\"mean\"]"
   ]
  },
  {
   "cell_type": "code",
   "execution_count": 6,
   "metadata": {},
   "outputs": [
    {
     "data": {
      "text/html": [
       "<div>\n",
       "<style scoped>\n",
       "    .dataframe tbody tr th:only-of-type {\n",
       "        vertical-align: middle;\n",
       "    }\n",
       "\n",
       "    .dataframe tbody tr th {\n",
       "        vertical-align: top;\n",
       "    }\n",
       "\n",
       "    .dataframe thead th {\n",
       "        text-align: right;\n",
       "    }\n",
       "</style>\n",
       "<table border=\"1\" class=\"dataframe\">\n",
       "  <thead>\n",
       "    <tr style=\"text-align: right;\">\n",
       "      <th></th>\n",
       "      <th>0</th>\n",
       "    </tr>\n",
       "  </thead>\n",
       "  <tbody>\n",
       "    <tr>\n",
       "      <th>gender</th>\n",
       "      <td>female</td>\n",
       "    </tr>\n",
       "    <tr>\n",
       "      <th>race/ethnicity</th>\n",
       "      <td>group C</td>\n",
       "    </tr>\n",
       "    <tr>\n",
       "      <th>parental level of education</th>\n",
       "      <td>some college</td>\n",
       "    </tr>\n",
       "    <tr>\n",
       "      <th>lunch</th>\n",
       "      <td>standard</td>\n",
       "    </tr>\n",
       "    <tr>\n",
       "      <th>test preparation course</th>\n",
       "      <td>none</td>\n",
       "    </tr>\n",
       "  </tbody>\n",
       "</table>\n",
       "</div>"
      ],
      "text/plain": [
       "                                        0\n",
       "gender                             female\n",
       "race/ethnicity                    group C\n",
       "parental level of education  some college\n",
       "lunch                            standard\n",
       "test preparation course              none"
      ]
     },
     "execution_count": 6,
     "metadata": {},
     "output_type": "execute_result"
    }
   ],
   "source": [
    "#Calculo la moda para las variables categóricas, creando una tabla con las categóricas.\n",
    "categoricas = [\n",
    "    \"gender\",\n",
    "    \"race/ethnicity\",\n",
    "    \"parental level of education\",\n",
    "    \"lunch\",\n",
    "    \"test preparation course\"\n",
    "]\n",
    "df[categoricas].mode().T"
   ]
  },
  {
   "cell_type": "code",
   "execution_count": null,
   "metadata": {},
   "outputs": [],
   "source": [
    "pinta_distribucion_categoricas(df, categoricas)"
   ]
  }
 ],
 "metadata": {
  "kernelspec": {
   "display_name": "Python 3",
   "language": "python",
   "name": "python3"
  },
  "language_info": {
   "codemirror_mode": {
    "name": "ipython",
    "version": 3
   },
   "file_extension": ".py",
   "mimetype": "text/x-python",
   "name": "python",
   "nbconvert_exporter": "python",
   "pygments_lexer": "ipython3",
   "version": "3.13.0"
  }
 },
 "nbformat": 4,
 "nbformat_minor": 2
}
